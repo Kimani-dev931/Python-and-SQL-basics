{
  "nbformat": 4,
  "nbformat_minor": 0,
  "metadata": {
    "colab": {
      "provenance": [],
      "mount_file_id": "10YNNiO2XQzdd8rsR7h8LuMalzE8r69q9",
      "authorship_tag": "ABX9TyPs+CAY0iDtDowa/2I4RCI1",
      "include_colab_link": true
    },
    "kernelspec": {
      "name": "python3",
      "display_name": "Python 3"
    },
    "language_info": {
      "name": "python"
    }
  },
  "cells": [
    {
      "cell_type": "markdown",
      "metadata": {
        "id": "view-in-github",
        "colab_type": "text"
      },
      "source": [
        "<a href=\"https://colab.research.google.com/github/Kimani-dev931/Python-and-SQL-basics/blob/master/Car_CO2_Emission_Prediction.ipynb\" target=\"_parent\"><img src=\"https://colab.research.google.com/assets/colab-badge.svg\" alt=\"Open In Colab\"/></a>"
      ]
    },
    {
      "cell_type": "code",
      "source": [
        "from google.colab import drive\n",
        "drive.mount('/content/drive')"
      ],
      "metadata": {
        "id": "a622lSeTUo7M",
        "outputId": "3320a390-63d9-443c-cef7-31fb9f216b15",
        "colab": {
          "base_uri": "https://localhost:8080/"
        }
      },
      "execution_count": null,
      "outputs": [
        {
          "output_type": "stream",
          "name": "stdout",
          "text": [
            "Drive already mounted at /content/drive; to attempt to forcibly remount, call drive.mount(\"/content/drive\", force_remount=True).\n"
          ]
        }
      ]
    },
    {
      "cell_type": "code",
      "source": [
        "import pandas as pd\n",
        "from sklearn.model_selection import train_test_split\n",
        "from sklearn.linear_model import LinearRegression\n",
        "\n",
        "# Read the data from data.csv\n",
        "df = pd.read_csv(\"data.csv\")\n",
        "\n",
        "# Split the data into training (80%) and test (20%) sets\n",
        "X_train, X_test, y_train, y_test = train_test_split(df[['Weight', 'Volume']], df['CO2'], test_size=0.2, random_state=42)\n",
        "\n",
        "# Create a linear regression model and fit it on the training data\n",
        "regr = LinearRegression()\n",
        "regr.fit(X_train, y_train)\n",
        "\n",
        "# Predict the CO2 emissions on the test set\n",
        "predictedCO2 = regr.predict(X_test)\n",
        "\n",
        "# Create a DataFrame to compare actual and predicted values\n",
        "result_df = pd.DataFrame({'Actual': y_test, 'Predicted': predictedCO2})\n",
        "\n",
        "# Print the actual and predicted CO2 emissions for the test set\n",
        "print(result_df)\n"
      ],
      "metadata": {
        "colab": {
          "base_uri": "https://localhost:8080/"
        },
        "id": "vtgQJFP59qiG",
        "outputId": "60a939c3-c48e-44b3-e49d-2b013bda8f32"
      },
      "execution_count": null,
      "outputs": [
        {
          "output_type": "stream",
          "name": "stdout",
          "text": [
            "    Actual   Predicted\n",
            "35     120  106.162301\n",
            "13      94  101.152581\n",
            "26     104  104.783275\n",
            "30     115  106.137684\n",
            "16      99  102.062149\n",
            "31     117  106.843891\n",
            "21      99  104.284220\n",
            "12      99   97.453233\n"
          ]
        }
      ]
    }
  ]
}